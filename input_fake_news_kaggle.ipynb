{
 "cells": [
  {
   "cell_type": "code",
   "execution_count": 1,
   "metadata": {},
   "outputs": [],
   "source": [
    "import pandas as pd"
   ]
  },
  {
   "cell_type": "code",
   "execution_count": 2,
   "metadata": {},
   "outputs": [],
   "source": [
    "df_train_input = pd.read_csv('Input_Fake_News/train.csv',delimiter=';')\n",
    "df_train_input = df_train_input.loc[:,['text','label']]\n",
    "df_test_input = pd.read_csv('Input_Fake_News/test.csv',delimiter=';')\n",
    "df_test_input = df_test_input.loc[:,['text','label']]\n",
    "df_evaluation_input = pd.read_csv('Input_Fake_News/evaluation.csv',delimiter=';')\n",
    "df_evaluation_input = df_evaluation_input.loc[:,['text','label']]"
   ]
  }
 ],
 "metadata": {
  "kernelspec": {
   "display_name": "Project_Bootcamp",
   "language": "python",
   "name": "python3"
  },
  "language_info": {
   "codemirror_mode": {
    "name": "ipython",
    "version": 3
   },
   "file_extension": ".py",
   "mimetype": "text/x-python",
   "name": "python",
   "nbconvert_exporter": "python",
   "pygments_lexer": "ipython3",
   "version": "3.10.12"
  }
 },
 "nbformat": 4,
 "nbformat_minor": 2
}

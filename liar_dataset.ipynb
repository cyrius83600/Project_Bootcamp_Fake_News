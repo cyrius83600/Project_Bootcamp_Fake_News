{
 "cells": [
  {
   "cell_type": "code",
   "execution_count": 1,
   "metadata": {},
   "outputs": [],
   "source": [
    "import pandas as pd"
   ]
  },
  {
   "cell_type": "code",
   "execution_count": 2,
   "metadata": {},
   "outputs": [],
   "source": [
    "def GetMappingLiarDataset(files_name):\n",
    "    dfs = []\n",
    "    for file_name in files_name:\n",
    "        df_liar = pd.read_csv(file_name,delimiter='\\t')\n",
    "        df_liar_mapping = df_liar.iloc[:,[1,2]]\n",
    "        df_liar_mapping.columns=['IsFakeNews','text']\n",
    "        df_liar_mapping['label'] = df_liar_mapping.IsFakeNews.apply(lambda x: 0 if x=='false' else 1)\n",
    "        df_liar_mapping.drop('IsFakeNews',axis=1,inplace=True)\n",
    "        dfs.append(df_liar_mapping)\n",
    "    df_test = pd.concat([dfs[1],dfs[2]],axis=0)\n",
    "    return (dfs[0],df_test)"
   ]
  },
  {
   "cell_type": "code",
   "execution_count": 3,
   "metadata": {},
   "outputs": [
    {
     "name": "stderr",
     "output_type": "stream",
     "text": [
      "/tmp/ipykernel_5409/3144580796.py:7: SettingWithCopyWarning: \n",
      "A value is trying to be set on a copy of a slice from a DataFrame.\n",
      "Try using .loc[row_indexer,col_indexer] = value instead\n",
      "\n",
      "See the caveats in the documentation: https://pandas.pydata.org/pandas-docs/stable/user_guide/indexing.html#returning-a-view-versus-a-copy\n",
      "  df_liar_mapping['label'] = df_liar_mapping.IsFakeNews.apply(lambda x: 0 if x=='false' else 1)\n",
      "/tmp/ipykernel_5409/3144580796.py:8: SettingWithCopyWarning: \n",
      "A value is trying to be set on a copy of a slice from a DataFrame\n",
      "\n",
      "See the caveats in the documentation: https://pandas.pydata.org/pandas-docs/stable/user_guide/indexing.html#returning-a-view-versus-a-copy\n",
      "  df_liar_mapping.drop('IsFakeNews',axis=1,inplace=True)\n",
      "/tmp/ipykernel_5409/3144580796.py:7: SettingWithCopyWarning: \n",
      "A value is trying to be set on a copy of a slice from a DataFrame.\n",
      "Try using .loc[row_indexer,col_indexer] = value instead\n",
      "\n",
      "See the caveats in the documentation: https://pandas.pydata.org/pandas-docs/stable/user_guide/indexing.html#returning-a-view-versus-a-copy\n",
      "  df_liar_mapping['label'] = df_liar_mapping.IsFakeNews.apply(lambda x: 0 if x=='false' else 1)\n",
      "/tmp/ipykernel_5409/3144580796.py:8: SettingWithCopyWarning: \n",
      "A value is trying to be set on a copy of a slice from a DataFrame\n",
      "\n",
      "See the caveats in the documentation: https://pandas.pydata.org/pandas-docs/stable/user_guide/indexing.html#returning-a-view-versus-a-copy\n",
      "  df_liar_mapping.drop('IsFakeNews',axis=1,inplace=True)\n",
      "/tmp/ipykernel_5409/3144580796.py:7: SettingWithCopyWarning: \n",
      "A value is trying to be set on a copy of a slice from a DataFrame.\n",
      "Try using .loc[row_indexer,col_indexer] = value instead\n",
      "\n",
      "See the caveats in the documentation: https://pandas.pydata.org/pandas-docs/stable/user_guide/indexing.html#returning-a-view-versus-a-copy\n",
      "  df_liar_mapping['label'] = df_liar_mapping.IsFakeNews.apply(lambda x: 0 if x=='false' else 1)\n",
      "/tmp/ipykernel_5409/3144580796.py:8: SettingWithCopyWarning: \n",
      "A value is trying to be set on a copy of a slice from a DataFrame\n",
      "\n",
      "See the caveats in the documentation: https://pandas.pydata.org/pandas-docs/stable/user_guide/indexing.html#returning-a-view-versus-a-copy\n",
      "  df_liar_mapping.drop('IsFakeNews',axis=1,inplace=True)\n"
     ]
    }
   ],
   "source": [
    "df_train_liar_dataset, df_test_liar_datasset = GetMappingLiarDataset(['Liar_Dataset/train.tsv','Liar_Dataset/test.tsv','Liar_Dataset/valid.tsv'])\n"
   ]
  }
 ],
 "metadata": {
  "kernelspec": {
   "display_name": "Project_Bootcamp",
   "language": "python",
   "name": "python3"
  },
  "language_info": {
   "codemirror_mode": {
    "name": "ipython",
    "version": 3
   },
   "file_extension": ".py",
   "mimetype": "text/x-python",
   "name": "python",
   "nbconvert_exporter": "python",
   "pygments_lexer": "ipython3",
   "version": "3.10.12"
  }
 },
 "nbformat": 4,
 "nbformat_minor": 2
}

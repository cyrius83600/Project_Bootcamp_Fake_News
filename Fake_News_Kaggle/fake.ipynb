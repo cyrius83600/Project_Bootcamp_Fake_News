{
 "cells": [
  {
   "cell_type": "code",
   "execution_count": 1,
   "metadata": {},
   "outputs": [],
   "source": [
    "import pandas as pd"
   ]
  },
  {
   "cell_type": "code",
   "execution_count": 17,
   "metadata": {},
   "outputs": [],
   "source": [
    "def GetFileTest(file_name):\n",
    "    df = pd.read_csv(file_name)\n",
    "    df = df.loc[:,['text','label']]\n",
    "    df.dropna(inplace=True)\n",
    "    df['label'] = df['label'].apply(lambda x : 0 if x == 1 else 1)\n",
    "    return df\n"
   ]
  },
  {
   "cell_type": "code",
   "execution_count": 23,
   "metadata": {},
   "outputs": [],
   "source": [
    "\n",
    "df_train = GetFileTest('train.csv')\n",
    "df_val = pd.read_csv('test.csv').loc[:,['text']]\n",
    "df_val.dropna(inplace=True)\n",
    "\n",
    "\n"
   ]
  }
 ],
 "metadata": {
  "kernelspec": {
   "display_name": "Project_Bootcamp",
   "language": "python",
   "name": "python3"
  },
  "language_info": {
   "codemirror_mode": {
    "name": "ipython",
    "version": 3
   },
   "file_extension": ".py",
   "mimetype": "text/x-python",
   "name": "python",
   "nbconvert_exporter": "python",
   "pygments_lexer": "ipython3",
   "version": "3.10.12"
  }
 },
 "nbformat": 4,
 "nbformat_minor": 2
}

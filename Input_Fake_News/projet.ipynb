{
 "cells": [
  {
   "cell_type": "code",
   "execution_count": 1,
   "metadata": {},
   "outputs": [],
   "source": [
    "import pandas as pd"
   ]
  },
  {
   "cell_type": "code",
   "execution_count": 4,
   "metadata": {},
   "outputs": [],
   "source": [
    "df = pd.read_csv('train.csv',delimiter=';')"
   ]
  },
  {
   "cell_type": "code",
   "execution_count": 5,
   "metadata": {},
   "outputs": [
    {
     "data": {
      "text/html": [
       "<div>\n",
       "<style scoped>\n",
       "    .dataframe tbody tr th:only-of-type {\n",
       "        vertical-align: middle;\n",
       "    }\n",
       "\n",
       "    .dataframe tbody tr th {\n",
       "        vertical-align: top;\n",
       "    }\n",
       "\n",
       "    .dataframe thead th {\n",
       "        text-align: right;\n",
       "    }\n",
       "</style>\n",
       "<table border=\"1\" class=\"dataframe\">\n",
       "  <thead>\n",
       "    <tr style=\"text-align: right;\">\n",
       "      <th></th>\n",
       "      <th>Unnamed: 0</th>\n",
       "      <th>title</th>\n",
       "      <th>text</th>\n",
       "      <th>label</th>\n",
       "    </tr>\n",
       "  </thead>\n",
       "  <tbody>\n",
       "    <tr>\n",
       "      <th>0</th>\n",
       "      <td>0</td>\n",
       "      <td>Palestinians switch off Christmas lights in Be...</td>\n",
       "      <td>RAMALLAH, West Bank (Reuters) - Palestinians s...</td>\n",
       "      <td>1</td>\n",
       "    </tr>\n",
       "    <tr>\n",
       "      <th>1</th>\n",
       "      <td>1</td>\n",
       "      <td>China says Trump call with Taiwan president wo...</td>\n",
       "      <td>BEIJING (Reuters) - U.S. President-elect Donal...</td>\n",
       "      <td>1</td>\n",
       "    </tr>\n",
       "    <tr>\n",
       "      <th>2</th>\n",
       "      <td>2</td>\n",
       "      <td>FAIL! The Trump Organization’s Credit Score W...</td>\n",
       "      <td>While the controversy over Trump s personal ta...</td>\n",
       "      <td>0</td>\n",
       "    </tr>\n",
       "    <tr>\n",
       "      <th>3</th>\n",
       "      <td>3</td>\n",
       "      <td>Zimbabwe military chief's China trip was norma...</td>\n",
       "      <td>BEIJING (Reuters) - A trip to Beijing last wee...</td>\n",
       "      <td>1</td>\n",
       "    </tr>\n",
       "    <tr>\n",
       "      <th>4</th>\n",
       "      <td>4</td>\n",
       "      <td>THE MOST UNCOURAGEOUS PRESIDENT EVER Receives ...</td>\n",
       "      <td>There has never been a more UNCOURAGEOUS perso...</td>\n",
       "      <td>0</td>\n",
       "    </tr>\n",
       "    <tr>\n",
       "      <th>...</th>\n",
       "      <td>...</td>\n",
       "      <td>...</td>\n",
       "      <td>...</td>\n",
       "      <td>...</td>\n",
       "    </tr>\n",
       "    <tr>\n",
       "      <th>24348</th>\n",
       "      <td>24348</td>\n",
       "      <td>Mexico Senate committee OK's air transport dea...</td>\n",
       "      <td>MEXICO CITY (Reuters) - A key committee in Mex...</td>\n",
       "      <td>1</td>\n",
       "    </tr>\n",
       "    <tr>\n",
       "      <th>24349</th>\n",
       "      <td>24349</td>\n",
       "      <td>BREAKING: HILLARY CLINTON’S STATE DEPARTMENT G...</td>\n",
       "      <td>IF SHE S NOT TOAST NOW THEN WE RE IN BIGGER TR...</td>\n",
       "      <td>0</td>\n",
       "    </tr>\n",
       "    <tr>\n",
       "      <th>24350</th>\n",
       "      <td>24350</td>\n",
       "      <td>trump breaks from stump speech to admire beaut...</td>\n",
       "      <td>kremlin nato was created for agression  \\nruss...</td>\n",
       "      <td>0</td>\n",
       "    </tr>\n",
       "    <tr>\n",
       "      <th>24351</th>\n",
       "      <td>24351</td>\n",
       "      <td>NFL PLAYER Delivers Courageous Message: Stop B...</td>\n",
       "      <td>Dallas Cowboys star wide receiver Dez Bryant t...</td>\n",
       "      <td>0</td>\n",
       "    </tr>\n",
       "    <tr>\n",
       "      <th>24352</th>\n",
       "      <td>24352</td>\n",
       "      <td>NORDSTROM STOCK TAKES NOSEDIVE After Trump Twe...</td>\n",
       "      <td>UPDATE: Nordstrom stock closed up slightly tod...</td>\n",
       "      <td>0</td>\n",
       "    </tr>\n",
       "  </tbody>\n",
       "</table>\n",
       "<p>24353 rows × 4 columns</p>\n",
       "</div>"
      ],
      "text/plain": [
       "       Unnamed: 0                                              title  \\\n",
       "0               0  Palestinians switch off Christmas lights in Be...   \n",
       "1               1  China says Trump call with Taiwan president wo...   \n",
       "2               2   FAIL! The Trump Organization’s Credit Score W...   \n",
       "3               3  Zimbabwe military chief's China trip was norma...   \n",
       "4               4  THE MOST UNCOURAGEOUS PRESIDENT EVER Receives ...   \n",
       "...           ...                                                ...   \n",
       "24348       24348  Mexico Senate committee OK's air transport dea...   \n",
       "24349       24349  BREAKING: HILLARY CLINTON’S STATE DEPARTMENT G...   \n",
       "24350       24350  trump breaks from stump speech to admire beaut...   \n",
       "24351       24351  NFL PLAYER Delivers Courageous Message: Stop B...   \n",
       "24352       24352  NORDSTROM STOCK TAKES NOSEDIVE After Trump Twe...   \n",
       "\n",
       "                                                    text  label  \n",
       "0      RAMALLAH, West Bank (Reuters) - Palestinians s...      1  \n",
       "1      BEIJING (Reuters) - U.S. President-elect Donal...      1  \n",
       "2      While the controversy over Trump s personal ta...      0  \n",
       "3      BEIJING (Reuters) - A trip to Beijing last wee...      1  \n",
       "4      There has never been a more UNCOURAGEOUS perso...      0  \n",
       "...                                                  ...    ...  \n",
       "24348  MEXICO CITY (Reuters) - A key committee in Mex...      1  \n",
       "24349  IF SHE S NOT TOAST NOW THEN WE RE IN BIGGER TR...      0  \n",
       "24350  kremlin nato was created for agression  \\nruss...      0  \n",
       "24351  Dallas Cowboys star wide receiver Dez Bryant t...      0  \n",
       "24352  UPDATE: Nordstrom stock closed up slightly tod...      0  \n",
       "\n",
       "[24353 rows x 4 columns]"
      ]
     },
     "execution_count": 5,
     "metadata": {},
     "output_type": "execute_result"
    }
   ],
   "source": [
    "df"
   ]
  },
  {
   "cell_type": "code",
   "execution_count": 7,
   "metadata": {},
   "outputs": [
    {
     "data": {
      "text/plain": [
       "1    13246\n",
       "0    11107\n",
       "Name: label, dtype: int64"
      ]
     },
     "execution_count": 7,
     "metadata": {},
     "output_type": "execute_result"
    }
   ],
   "source": [
    "df.label.value_counts()"
   ]
  },
  {
   "cell_type": "code",
   "execution_count": 9,
   "metadata": {},
   "outputs": [
    {
     "name": "stdout",
     "output_type": "stream",
     "text": [
      "<class 'pandas.core.frame.DataFrame'>\n",
      "RangeIndex: 24353 entries, 0 to 24352\n",
      "Data columns (total 4 columns):\n",
      " #   Column      Non-Null Count  Dtype \n",
      "---  ------      --------------  ----- \n",
      " 0   Unnamed: 0  24353 non-null  int64 \n",
      " 1   title       24353 non-null  object\n",
      " 2   text        24353 non-null  object\n",
      " 3   label       24353 non-null  int64 \n",
      "dtypes: int64(2), object(2)\n",
      "memory usage: 761.2+ KB\n"
     ]
    }
   ],
   "source": [
    "df.info()"
   ]
  },
  {
   "cell_type": "code",
   "execution_count": 15,
   "metadata": {},
   "outputs": [
    {
     "data": {
      "text/html": [
       "<div>\n",
       "<style scoped>\n",
       "    .dataframe tbody tr th:only-of-type {\n",
       "        vertical-align: middle;\n",
       "    }\n",
       "\n",
       "    .dataframe tbody tr th {\n",
       "        vertical-align: top;\n",
       "    }\n",
       "\n",
       "    .dataframe thead th {\n",
       "        text-align: right;\n",
       "    }\n",
       "</style>\n",
       "<table border=\"1\" class=\"dataframe\">\n",
       "  <thead>\n",
       "    <tr style=\"text-align: right;\">\n",
       "      <th></th>\n",
       "      <th>Unnamed: 0</th>\n",
       "      <th>title</th>\n",
       "      <th>text</th>\n",
       "      <th>label</th>\n",
       "    </tr>\n",
       "  </thead>\n",
       "  <tbody>\n",
       "  </tbody>\n",
       "</table>\n",
       "</div>"
      ],
      "text/plain": [
       "Empty DataFrame\n",
       "Columns: [Unnamed: 0, title, text, label]\n",
       "Index: []"
      ]
     },
     "execution_count": 15,
     "metadata": {},
     "output_type": "execute_result"
    }
   ],
   "source": [
    "df[df.duplicated()]"
   ]
  },
  {
   "cell_type": "code",
   "execution_count": 18,
   "metadata": {},
   "outputs": [
    {
     "data": {
      "text/plain": [
       "1"
      ]
     },
     "execution_count": 18,
     "metadata": {},
     "output_type": "execute_result"
    }
   ],
   "source": [
    "df.iloc[0,:].label"
   ]
  }
 ],
 "metadata": {
  "kernelspec": {
   "display_name": "Project_Bootcamp",
   "language": "python",
   "name": "python3"
  },
  "language_info": {
   "codemirror_mode": {
    "name": "ipython",
    "version": 3
   },
   "file_extension": ".py",
   "mimetype": "text/x-python",
   "name": "python",
   "nbconvert_exporter": "python",
   "pygments_lexer": "ipython3",
   "version": "3.10.12"
  }
 },
 "nbformat": 4,
 "nbformat_minor": 2
}

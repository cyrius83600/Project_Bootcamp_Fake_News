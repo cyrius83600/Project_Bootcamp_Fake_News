{
 "cells": [
  {
   "cell_type": "code",
   "execution_count": 1,
   "metadata": {},
   "outputs": [],
   "source": [
    "import pandas as pd"
   ]
  },
  {
   "cell_type": "code",
   "execution_count": 2,
   "metadata": {},
   "outputs": [],
   "source": [
    "df_fake_kaggle = pd.read_csv('Fake_Kaggle/train.csv')\n",
    "df_fake_kaggle = df_fake_kaggle[(df_fake_kaggle['class'] == 'Fake') | (df_fake_kaggle['class'] == 'Real')]\n",
    "df_fake_kaggle['class'] = df_fake_kaggle['class'].apply(lambda x : 0 if x == 'Real' else 1)\n"
   ]
  },
  {
   "cell_type": "code",
   "execution_count": 3,
   "metadata": {},
   "outputs": [],
   "source": [
    "df_val_fake_kaggle = pd.DataFrame(pd.read_csv('Fake_Kaggle/test.csv').text,columns=['text'])\n",
    "\n",
    "\n"
   ]
  }
 ],
 "metadata": {
  "kernelspec": {
   "display_name": "Project_Bootcamp",
   "language": "python",
   "name": "python3"
  },
  "language_info": {
   "codemirror_mode": {
    "name": "ipython",
    "version": 3
   },
   "file_extension": ".py",
   "mimetype": "text/x-python",
   "name": "python",
   "nbconvert_exporter": "python",
   "pygments_lexer": "ipython3",
   "version": "3.10.12"
  }
 },
 "nbformat": 4,
 "nbformat_minor": 2
}

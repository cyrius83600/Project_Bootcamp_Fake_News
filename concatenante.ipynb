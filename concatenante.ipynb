{
 "cells": [
  {
   "cell_type": "code",
   "execution_count": 1,
   "metadata": {},
   "outputs": [],
   "source": [
    "import pandas as pd"
   ]
  },
  {
   "cell_type": "code",
   "execution_count": 2,
   "metadata": {},
   "outputs": [],
   "source": [
    "df_fake_kaggle = pd.read_csv('Fake_Kaggle/train.csv')\n",
    "df_fake_kaggle = df_fake_kaggle[(df_fake_kaggle['class'] == 'Fake') | (df_fake_kaggle['class'] == 'Real')]\n",
    "df_fake_kaggle['class'] = df_fake_kaggle['class'].apply(lambda x : 0 if x == 'Real' else 1)\n",
    "df_val_fake_kaggle = pd.DataFrame(pd.read_csv('Fake_Kaggle/test.csv').text,columns=['text'])"
   ]
  },
  {
   "cell_type": "code",
   "execution_count": 3,
   "metadata": {},
   "outputs": [],
   "source": [
    "def GetFileTest(file_name):\n",
    "    df = pd.read_csv(file_name)\n",
    "    df = df.loc[:,['text','label']]\n",
    "    df.dropna(inplace=True)\n",
    "    df['label'] = df['label'].apply(lambda x : 0 if x == 1 else 1)\n",
    "    return df\n",
    "\n",
    "df_train_fake_news_kaggle = GetFileTest('Fake_News_Kaggle/train.csv')\n",
    "df_val_fake_news_kaggle = pd.read_csv('Fake_News_Kaggle/test.csv').loc[:,['text']]\n",
    "df_val_fake_news_kaggle.dropna(inplace=True)"
   ]
  },
  {
   "cell_type": "code",
   "execution_count": 4,
   "metadata": {},
   "outputs": [
    {
     "name": "stderr",
     "output_type": "stream",
     "text": [
      "/tmp/ipykernel_17972/4075386623.py:7: SettingWithCopyWarning: \n",
      "A value is trying to be set on a copy of a slice from a DataFrame.\n",
      "Try using .loc[row_indexer,col_indexer] = value instead\n",
      "\n",
      "See the caveats in the documentation: https://pandas.pydata.org/pandas-docs/stable/user_guide/indexing.html#returning-a-view-versus-a-copy\n",
      "  df_liar_mapping['label'] = df_liar_mapping.IsFakeNews.apply(lambda x: 0 if x=='false' else 1)\n",
      "/tmp/ipykernel_17972/4075386623.py:8: SettingWithCopyWarning: \n",
      "A value is trying to be set on a copy of a slice from a DataFrame\n",
      "\n",
      "See the caveats in the documentation: https://pandas.pydata.org/pandas-docs/stable/user_guide/indexing.html#returning-a-view-versus-a-copy\n",
      "  df_liar_mapping.drop('IsFakeNews',axis=1,inplace=True)\n",
      "/tmp/ipykernel_17972/4075386623.py:7: SettingWithCopyWarning: \n",
      "A value is trying to be set on a copy of a slice from a DataFrame.\n",
      "Try using .loc[row_indexer,col_indexer] = value instead\n",
      "\n",
      "See the caveats in the documentation: https://pandas.pydata.org/pandas-docs/stable/user_guide/indexing.html#returning-a-view-versus-a-copy\n",
      "  df_liar_mapping['label'] = df_liar_mapping.IsFakeNews.apply(lambda x: 0 if x=='false' else 1)\n",
      "/tmp/ipykernel_17972/4075386623.py:8: SettingWithCopyWarning: \n",
      "A value is trying to be set on a copy of a slice from a DataFrame\n",
      "\n",
      "See the caveats in the documentation: https://pandas.pydata.org/pandas-docs/stable/user_guide/indexing.html#returning-a-view-versus-a-copy\n",
      "  df_liar_mapping.drop('IsFakeNews',axis=1,inplace=True)\n",
      "/tmp/ipykernel_17972/4075386623.py:7: SettingWithCopyWarning: \n",
      "A value is trying to be set on a copy of a slice from a DataFrame.\n",
      "Try using .loc[row_indexer,col_indexer] = value instead\n",
      "\n",
      "See the caveats in the documentation: https://pandas.pydata.org/pandas-docs/stable/user_guide/indexing.html#returning-a-view-versus-a-copy\n",
      "  df_liar_mapping['label'] = df_liar_mapping.IsFakeNews.apply(lambda x: 0 if x=='false' else 1)\n",
      "/tmp/ipykernel_17972/4075386623.py:8: SettingWithCopyWarning: \n",
      "A value is trying to be set on a copy of a slice from a DataFrame\n",
      "\n",
      "See the caveats in the documentation: https://pandas.pydata.org/pandas-docs/stable/user_guide/indexing.html#returning-a-view-versus-a-copy\n",
      "  df_liar_mapping.drop('IsFakeNews',axis=1,inplace=True)\n"
     ]
    }
   ],
   "source": [
    "def GetMappingLiarDataset(files_name):\n",
    "    dfs = []\n",
    "    for file_name in files_name:\n",
    "        df_liar = pd.read_csv(file_name,delimiter='\\t')\n",
    "        df_liar_mapping = df_liar.iloc[:,[1,2]]\n",
    "        df_liar_mapping.columns=['IsFakeNews','text']\n",
    "        df_liar_mapping['label'] = df_liar_mapping.IsFakeNews.apply(lambda x: 0 if x=='false' else 1)\n",
    "        df_liar_mapping.drop('IsFakeNews',axis=1,inplace=True)\n",
    "        dfs.append(df_liar_mapping)\n",
    "    df_test = pd.concat([dfs[1],dfs[2]],axis=0)\n",
    "    return (dfs[0],df_test)\n",
    "df_train_liar_dataset, df_test_liar_datasset = GetMappingLiarDataset(['Liar_Dataset/train.tsv','Liar_Dataset/test.tsv','Liar_Dataset/valid.tsv'])"
   ]
  },
  {
   "cell_type": "code",
   "execution_count": 5,
   "metadata": {},
   "outputs": [],
   "source": [
    "df_fake_misinfo = pd.read_csv('Misinfo/DataSet_Misinfo_FAKE.csv')\n",
    "df_fake_misinfo['label'] = df_fake_misinfo['text'].apply(lambda x:1)\n",
    "df_fake_misinfo = df_fake_misinfo.loc[:,['text','label']]\n",
    "df_true_misinfo = pd.read_csv('Misinfo/DataSet_Misinfo_TRUE.csv')\n",
    "df_true_misinfo['label'] = df_true_misinfo['text'].apply(lambda x:0)\n",
    "df_true_misinfo = df_true_misinfo.loc[:,['text','label']]\n",
    "df_true_misinfo.dropna(inplace=True)\n",
    "df_misinfo = pd.concat([df_fake_misinfo,df_true_misinfo])"
   ]
  },
  {
   "cell_type": "code",
   "execution_count": 6,
   "metadata": {},
   "outputs": [],
   "source": [
    "df_fake = pd.read_csv('Fake_Real_News_Kaggle/Fake.csv')\n",
    "df_fake = pd.DataFrame(df_fake.text,columns=['text'])\n",
    "df_fake['label'] = df_fake.text.apply(lambda x : 1)\n",
    "df_real = pd.read_csv('Fake_Real_News_Kaggle/True.csv')\n",
    "df_real = pd.DataFrame(df_real.text)\n",
    "df_real['label'] = df_real.text.apply(lambda x : 0)\n",
    "df_real_news_kaggle = pd.concat([df_fake,df_real],axis=0)"
   ]
  },
  {
   "cell_type": "code",
   "execution_count": 7,
   "metadata": {},
   "outputs": [],
   "source": [
    "df_welfake = pd.read_csv('Wel_Fake_Kaggle/WELFake_Dataset.csv')\n",
    "df_welfake = df_welfake.loc[:,['text','label']]\n",
    "df_welfake.dropna(inplace=True)"
   ]
  },
  {
   "cell_type": "code",
   "execution_count": 8,
   "metadata": {},
   "outputs": [],
   "source": [
    "df_train_input = pd.read_csv('Input_Fake_News/train.csv',delimiter=';')\n",
    "df_train_input = df_train_input.loc[:,['text','label']]\n",
    "df_test_input = pd.read_csv('Input_Fake_News/test.csv',delimiter=';')\n",
    "df_test_input = df_test_input.loc[:,['text','label']]\n",
    "df_evaluation_input = pd.read_csv('Input_Fake_News/evaluation.csv',delimiter=';')\n",
    "df_evaluation_input = df_evaluation_input.loc[:,['text','label']]"
   ]
  },
  {
   "cell_type": "code",
   "execution_count": 9,
   "metadata": {},
   "outputs": [
    {
     "data": {
      "text/html": [
       "<div>\n",
       "<style scoped>\n",
       "    .dataframe tbody tr th:only-of-type {\n",
       "        vertical-align: middle;\n",
       "    }\n",
       "\n",
       "    .dataframe tbody tr th {\n",
       "        vertical-align: top;\n",
       "    }\n",
       "\n",
       "    .dataframe thead th {\n",
       "        text-align: right;\n",
       "    }\n",
       "</style>\n",
       "<table border=\"1\" class=\"dataframe\">\n",
       "  <thead>\n",
       "    <tr style=\"text-align: right;\">\n",
       "      <th></th>\n",
       "      <th>text</th>\n",
       "      <th>label</th>\n",
       "    </tr>\n",
       "  </thead>\n",
       "  <tbody>\n",
       "    <tr>\n",
       "      <th>0</th>\n",
       "      <td>House Dem Aide: We Didn’t Even See Comey’s Let...</td>\n",
       "      <td>0</td>\n",
       "    </tr>\n",
       "    <tr>\n",
       "      <th>1</th>\n",
       "      <td>Ever get the feeling your life circles the rou...</td>\n",
       "      <td>1</td>\n",
       "    </tr>\n",
       "    <tr>\n",
       "      <th>2</th>\n",
       "      <td>Why the Truth Might Get You Fired October 29, ...</td>\n",
       "      <td>0</td>\n",
       "    </tr>\n",
       "    <tr>\n",
       "      <th>3</th>\n",
       "      <td>Videos 15 Civilians Killed In Single US Airstr...</td>\n",
       "      <td>0</td>\n",
       "    </tr>\n",
       "    <tr>\n",
       "      <th>4</th>\n",
       "      <td>Print \\nAn Iranian woman has been sentenced to...</td>\n",
       "      <td>0</td>\n",
       "    </tr>\n",
       "    <tr>\n",
       "      <th>...</th>\n",
       "      <td>...</td>\n",
       "      <td>...</td>\n",
       "    </tr>\n",
       "    <tr>\n",
       "      <th>8112</th>\n",
       "      <td>VATICAN CITY (Reuters) - U.S. presidential can...</td>\n",
       "      <td>1</td>\n",
       "    </tr>\n",
       "    <tr>\n",
       "      <th>8113</th>\n",
       "      <td>force and fanaticism  wahhabism in saudi arabi...</td>\n",
       "      <td>1</td>\n",
       "    </tr>\n",
       "    <tr>\n",
       "      <th>8114</th>\n",
       "      <td>ISTANBUL (Reuters) - Turkey, whose relations w...</td>\n",
       "      <td>1</td>\n",
       "    </tr>\n",
       "    <tr>\n",
       "      <th>8115</th>\n",
       "      <td>Here s why Clinton and Abedin should be flippi...</td>\n",
       "      <td>0</td>\n",
       "    </tr>\n",
       "    <tr>\n",
       "      <th>8116</th>\n",
       "      <td>one twitter user once asked me is it too much ...</td>\n",
       "      <td>0</td>\n",
       "    </tr>\n",
       "  </tbody>\n",
       "</table>\n",
       "<p>261600 rows × 2 columns</p>\n",
       "</div>"
      ],
      "text/plain": [
       "                                                   text  label\n",
       "0     House Dem Aide: We Didn’t Even See Comey’s Let...      0\n",
       "1     Ever get the feeling your life circles the rou...      1\n",
       "2     Why the Truth Might Get You Fired October 29, ...      0\n",
       "3     Videos 15 Civilians Killed In Single US Airstr...      0\n",
       "4     Print \\nAn Iranian woman has been sentenced to...      0\n",
       "...                                                 ...    ...\n",
       "8112  VATICAN CITY (Reuters) - U.S. presidential can...      1\n",
       "8113  force and fanaticism  wahhabism in saudi arabi...      1\n",
       "8114  ISTANBUL (Reuters) - Turkey, whose relations w...      1\n",
       "8115  Here s why Clinton and Abedin should be flippi...      0\n",
       "8116  one twitter user once asked me is it too much ...      0\n",
       "\n",
       "[261600 rows x 2 columns]"
      ]
     },
     "execution_count": 9,
     "metadata": {},
     "output_type": "execute_result"
    }
   ],
   "source": [
    "df_final_train = pd.concat([df_train_fake_news_kaggle, df_train_liar_dataset, df_test_liar_datasset, df_misinfo, df_real_news_kaggle, df_welfake, df_train_input, df_test_input])\n",
    "df_final_train"
   ]
  },
  {
   "cell_type": "code",
   "execution_count": 11,
   "metadata": {},
   "outputs": [
    {
     "data": {
      "text/plain": [
       "1    142469\n",
       "0    119131\n",
       "Name: label, dtype: int64"
      ]
     },
     "execution_count": 11,
     "metadata": {},
     "output_type": "execute_result"
    }
   ],
   "source": [
    "df_final_train.label.value_counts()"
   ]
  },
  {
   "cell_type": "code",
   "execution_count": 10,
   "metadata": {},
   "outputs": [],
   "source": [
    "import pickle\n",
    "with open('df_train.pickle', 'wb') as file:\n",
    "    pickle.dump(df_final_train, file)"
   ]
  }
 ],
 "metadata": {
  "kernelspec": {
   "display_name": "Project_Bootcamp",
   "language": "python",
   "name": "python3"
  },
  "language_info": {
   "codemirror_mode": {
    "name": "ipython",
    "version": 3
   },
   "file_extension": ".py",
   "mimetype": "text/x-python",
   "name": "python",
   "nbconvert_exporter": "python",
   "pygments_lexer": "ipython3",
   "version": "3.10.12"
  }
 },
 "nbformat": 4,
 "nbformat_minor": 2
}
